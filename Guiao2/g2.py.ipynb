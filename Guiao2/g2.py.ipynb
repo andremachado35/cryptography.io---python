{
 "cells": [
  {
   "cell_type": "code",
   "execution_count": 38,
   "metadata": {
    "scrolled": true
   },
   "outputs": [
    {
     "name": "stdout",
     "output_type": "stream",
     "text": [
      "key1 \n",
      "\u0017RLzs�\u0014u \u0012�8\t��v\u0014�-�'��s�}�۩F\u0001\n",
      "key2 \n",
      "G��S�b���Yҋ�\u0012g�k&�ޟ�Lj���R2�\n"
     ]
    },
    {
     "data": {
      "text/plain": [
       "'Hello World!oooooooksdkfljksdk\\n'"
      ]
     },
     "execution_count": 38,
     "metadata": {},
     "output_type": "execute_result"
    }
   ],
   "source": [
    "import os\n",
    "\n",
    "#biblioteca hmac\n",
    "from cryptography.hazmat.backends import default_backend \n",
    "from cryptography.hazmat.primitives import hashes, hmac \n",
    "#biblioteca chacha20\n",
    "from cryptography.hazmat.primitives.ciphers import Cipher, algorithms, modes \n",
    "from cryptography.hazmat.backends import default_backend \n",
    " #biblioteca pbkdf2\n",
    "from cryptography.hazmat.primitives import hashes \n",
    "from cryptography.hazmat.primitives.kdf.pbkdf2 import PBKDF2HMAC\n",
    "from cryptography.hazmat.backends import default_backend \n",
    "\n",
    "\n",
    "\n",
    "\n",
    "def fcfile(key, nonce, salt, final):\n",
    "        msg = bytes(key + nonce + salt + final) \n",
    "        fenc = open('minicrypt.enc','wb')\n",
    "        fenc.write (msg)\n",
    "        fenc.close()\n",
    "        \n",
    "\n",
    "\n",
    "backend = default_backend()\n",
    "# Salts should be randomly generated\n",
    "salt = os.urandom(16) #random 16 bits\n",
    "\n",
    "# derive\n",
    "kdf = PBKDF2HMAC(\n",
    "    algorithm=hashes.SHA256(),\n",
    "    length=64,\n",
    "    salt=salt,\n",
    "    iterations=100000,\n",
    "    backend=backend\n",
    ")\n",
    "k = kdf.derive(b\"exemplodois\")\n",
    "key = bytes(k)\n",
    "\n",
    "    #dividir key em 2 \n",
    "key1=key[:32] #chave de chacha20\n",
    "key2=key[32:] #chave de hmac\n",
    "#print(key)\n",
    "\n",
    "\n",
    "    #abrir ficheiro\n",
    "t = open('mensagemsecreta.txt','r') #msg a encriptar\n",
    "content = t.read() #ler conteudo do ficheiro \n",
    "a = bytes(content) #normalizar conteudo\n",
    "\n",
    "    #chacha20\n",
    "nonce = os.urandom(16) #nounce de 16 bits do chacha20\n",
    "algorithm = algorithms.ChaCha20(key1, nonce) \n",
    "cipher = Cipher(algorithm, mode=None, backend=default_backend())\n",
    "encryptor = cipher.encryptor()\n",
    "ct = encryptor.update(a) #encriptar conteudo do ficheiro\n",
    "\n",
    "    #Seccao hmac\n",
    "h = hmac.HMAC(key2, hashes.SHA256(), backend=default_backend())\n",
    "h.update(ct)\n",
    "final = h.finalize()\n",
    "\n",
    "#print('salt: \\n' + salt +'\\n')\n",
    "#print ('key1 \\n' + key1)\n",
    "#print ('key2 \\n' + key2)\n",
    "#print ('nonce:\\n' + nonce + '\\n')\n",
    "#print ('final:\\n'+ final+'\\n')\n",
    "\n",
    "         #create file com key, nonce, salt, e msg\n",
    "fcfile(key, nonce, salt, final)\n",
    "\n",
    "        #desencript file \n",
    "fdec = open('minicrypt.enc','r')\n",
    "tmpd = fdec.read()\n",
    "tmpd2 = tmpd\n",
    "        #dividir bytes\n",
    "keytmp = tmpd[:96] # key + nonce + sal\n",
    "keyd = keytmp[:64] # key\n",
    "key1d=keyd[:32] #chave de chacha20\n",
    "key2d=keyd[32:] #chave de hmac\n",
    "noncesalttmp = keytmp [32:] # nonce + salt\n",
    "nonced = noncesalttmp[:16] # nonce\n",
    "saltd = noncesalttmp[16:] #salt\n",
    "\n",
    "\n",
    "b = os.path.getsize(\"minicrypt.enc\") #tamanho do ficheiro \n",
    "\n",
    "#print('key+nonce+salt \\n' + keytmp+'\\n')\n",
    "#print(keytmp +'\\n')\n",
    "#print('key1d \\n'+ key1d)\n",
    "#print('key2d \\n'+ key2d)\n",
    "#print('nonce +salt \\n'+noncesalttmp +'\\n')\n",
    "#print('nounced \\n' + nonced+'\\n')\n",
    "#print('saltd \\n' + saltd+'\\n')\n",
    "#print(b)\n",
    "#print(sizefinal)\n",
    "#print('finald : \\n'+ finald) \n",
    "\n",
    "sizefinal=  b-32\n",
    "finald = tmpd[sizefinal:]\n",
    "\n",
    "\n",
    "\n",
    "    #hmac decript \n",
    "hd = hmac.HMAC(key2d, hashes.SHA256(), backend=default_backend())\n",
    "x = hd.update(ct)\n",
    "hd.verify(finald)\n",
    "\n",
    "#chacha20 decript\n",
    "\n",
    "decryptor = cipher.decryptor()\n",
    "decryptor.update(ct)\n",
    "\n",
    "\n",
    "\n"
   ]
  },
  {
   "cell_type": "code",
   "execution_count": null,
   "metadata": {},
   "outputs": [],
   "source": []
  },
  {
   "cell_type": "code",
   "execution_count": null,
   "metadata": {},
   "outputs": [],
   "source": []
  },
  {
   "cell_type": "code",
   "execution_count": null,
   "metadata": {},
   "outputs": [],
   "source": []
  },
  {
   "cell_type": "code",
   "execution_count": null,
   "metadata": {},
   "outputs": [],
   "source": []
  }
 ],
 "metadata": {
  "kernelspec": {
   "display_name": "Python 2",
   "language": "python",
   "name": "python2"
  },
  "language_info": {
   "codemirror_mode": {
    "name": "ipython",
    "version": 2
   },
   "file_extension": ".py",
   "mimetype": "text/x-python",
   "name": "python",
   "nbconvert_exporter": "python",
   "pygments_lexer": "ipython2",
   "version": "2.7.15rc1"
  }
 },
 "nbformat": 4,
 "nbformat_minor": 2
}
